{
 "cells": [
  {
   "cell_type": "code",
   "execution_count": 39,
   "id": "e282c029",
   "metadata": {},
   "outputs": [],
   "source": [
    "import pandas as pd\n",
    "import numpy as np\n",
    "import matplotlib.pyplot as plt\n",
    "from sklearn.linear_model import LinearRegression\n",
    "from sklearn.preprocessing import StandardScaler\n",
    "from sklearn.model_selection import train_test_split\n",
    "import seaborn as sns\n",
    "import warnings\n"
   ]
  },
  {
   "cell_type": "code",
   "execution_count": 40,
   "id": "8e5270d5",
   "metadata": {},
   "outputs": [],
   "source": [
    "data=pd.read_csv('Grades.csv')"
   ]
  },
  {
   "cell_type": "code",
   "execution_count": 41,
   "id": "c1cda036",
   "metadata": {},
   "outputs": [
    {
     "data": {
      "text/html": [
       "<div>\n",
       "<style scoped>\n",
       "    .dataframe tbody tr th:only-of-type {\n",
       "        vertical-align: middle;\n",
       "    }\n",
       "\n",
       "    .dataframe tbody tr th {\n",
       "        vertical-align: top;\n",
       "    }\n",
       "\n",
       "    .dataframe thead th {\n",
       "        text-align: right;\n",
       "    }\n",
       "</style>\n",
       "<table border=\"1\" class=\"dataframe\">\n",
       "  <thead>\n",
       "    <tr style=\"text-align: right;\">\n",
       "      <th></th>\n",
       "      <th>Seat No.</th>\n",
       "      <th>PH-121</th>\n",
       "      <th>HS-101</th>\n",
       "      <th>CY-105</th>\n",
       "      <th>HS-105/12</th>\n",
       "      <th>MT-111</th>\n",
       "      <th>CS-105</th>\n",
       "      <th>CS-106</th>\n",
       "      <th>EL-102</th>\n",
       "      <th>EE-119</th>\n",
       "      <th>...</th>\n",
       "      <th>CS-312</th>\n",
       "      <th>CS-317</th>\n",
       "      <th>CS-403</th>\n",
       "      <th>CS-421</th>\n",
       "      <th>CS-406</th>\n",
       "      <th>CS-414</th>\n",
       "      <th>CS-419</th>\n",
       "      <th>CS-423</th>\n",
       "      <th>CS-412</th>\n",
       "      <th>CGPA</th>\n",
       "    </tr>\n",
       "  </thead>\n",
       "  <tbody>\n",
       "    <tr>\n",
       "      <th>0</th>\n",
       "      <td>CS-97001</td>\n",
       "      <td>B-</td>\n",
       "      <td>D+</td>\n",
       "      <td>C-</td>\n",
       "      <td>C</td>\n",
       "      <td>C-</td>\n",
       "      <td>D+</td>\n",
       "      <td>D</td>\n",
       "      <td>C-</td>\n",
       "      <td>B-</td>\n",
       "      <td>...</td>\n",
       "      <td>C-</td>\n",
       "      <td>C-</td>\n",
       "      <td>C-</td>\n",
       "      <td>C-</td>\n",
       "      <td>A-</td>\n",
       "      <td>A</td>\n",
       "      <td>C-</td>\n",
       "      <td>B</td>\n",
       "      <td>A-</td>\n",
       "      <td>2.205</td>\n",
       "    </tr>\n",
       "    <tr>\n",
       "      <th>1</th>\n",
       "      <td>CS-97002</td>\n",
       "      <td>A</td>\n",
       "      <td>D</td>\n",
       "      <td>D+</td>\n",
       "      <td>D</td>\n",
       "      <td>B-</td>\n",
       "      <td>C</td>\n",
       "      <td>D</td>\n",
       "      <td>A</td>\n",
       "      <td>D+</td>\n",
       "      <td>...</td>\n",
       "      <td>D+</td>\n",
       "      <td>D</td>\n",
       "      <td>C</td>\n",
       "      <td>D</td>\n",
       "      <td>A-</td>\n",
       "      <td>B-</td>\n",
       "      <td>C</td>\n",
       "      <td>C</td>\n",
       "      <td>B</td>\n",
       "      <td>2.008</td>\n",
       "    </tr>\n",
       "    <tr>\n",
       "      <th>2</th>\n",
       "      <td>CS-97003</td>\n",
       "      <td>A</td>\n",
       "      <td>B</td>\n",
       "      <td>A</td>\n",
       "      <td>B-</td>\n",
       "      <td>B+</td>\n",
       "      <td>A</td>\n",
       "      <td>B-</td>\n",
       "      <td>B+</td>\n",
       "      <td>A-</td>\n",
       "      <td>...</td>\n",
       "      <td>B</td>\n",
       "      <td>B</td>\n",
       "      <td>A</td>\n",
       "      <td>C</td>\n",
       "      <td>A</td>\n",
       "      <td>A</td>\n",
       "      <td>A</td>\n",
       "      <td>A-</td>\n",
       "      <td>A</td>\n",
       "      <td>3.608</td>\n",
       "    </tr>\n",
       "    <tr>\n",
       "      <th>3</th>\n",
       "      <td>CS-97004</td>\n",
       "      <td>D</td>\n",
       "      <td>C+</td>\n",
       "      <td>D+</td>\n",
       "      <td>D</td>\n",
       "      <td>D</td>\n",
       "      <td>A-</td>\n",
       "      <td>D+</td>\n",
       "      <td>C-</td>\n",
       "      <td>D</td>\n",
       "      <td>...</td>\n",
       "      <td>D+</td>\n",
       "      <td>C</td>\n",
       "      <td>D+</td>\n",
       "      <td>C-</td>\n",
       "      <td>B-</td>\n",
       "      <td>B</td>\n",
       "      <td>C+</td>\n",
       "      <td>C+</td>\n",
       "      <td>C+</td>\n",
       "      <td>1.906</td>\n",
       "    </tr>\n",
       "    <tr>\n",
       "      <th>4</th>\n",
       "      <td>CS-97005</td>\n",
       "      <td>A-</td>\n",
       "      <td>A-</td>\n",
       "      <td>A-</td>\n",
       "      <td>B+</td>\n",
       "      <td>A</td>\n",
       "      <td>A</td>\n",
       "      <td>A-</td>\n",
       "      <td>B+</td>\n",
       "      <td>A</td>\n",
       "      <td>...</td>\n",
       "      <td>B-</td>\n",
       "      <td>B+</td>\n",
       "      <td>B+</td>\n",
       "      <td>B-</td>\n",
       "      <td>A-</td>\n",
       "      <td>A</td>\n",
       "      <td>A-</td>\n",
       "      <td>A-</td>\n",
       "      <td>A</td>\n",
       "      <td>3.448</td>\n",
       "    </tr>\n",
       "  </tbody>\n",
       "</table>\n",
       "<p>5 rows × 43 columns</p>\n",
       "</div>"
      ],
      "text/plain": [
       "   Seat No. PH-121 HS-101 CY-105 HS-105/12 MT-111 CS-105 CS-106 EL-102 EE-119  \\\n",
       "0  CS-97001     B-     D+     C-         C     C-     D+      D     C-     B-   \n",
       "1  CS-97002      A      D     D+         D     B-      C      D      A     D+   \n",
       "2  CS-97003      A      B      A        B-     B+      A     B-     B+     A-   \n",
       "3  CS-97004      D     C+     D+         D      D     A-     D+     C-      D   \n",
       "4  CS-97005     A-     A-     A-        B+      A      A     A-     B+      A   \n",
       "\n",
       "   ... CS-312 CS-317 CS-403 CS-421 CS-406 CS-414 CS-419 CS-423 CS-412   CGPA  \n",
       "0  ...     C-     C-     C-     C-     A-      A     C-      B     A-  2.205  \n",
       "1  ...     D+      D      C      D     A-     B-      C      C      B  2.008  \n",
       "2  ...      B      B      A      C      A      A      A     A-      A  3.608  \n",
       "3  ...     D+      C     D+     C-     B-      B     C+     C+     C+  1.906  \n",
       "4  ...     B-     B+     B+     B-     A-      A     A-     A-      A  3.448  \n",
       "\n",
       "[5 rows x 43 columns]"
      ]
     },
     "execution_count": 41,
     "metadata": {},
     "output_type": "execute_result"
    }
   ],
   "source": [
    "data.head()"
   ]
  },
  {
   "cell_type": "code",
   "execution_count": 42,
   "id": "3afe28ef",
   "metadata": {},
   "outputs": [
    {
     "name": "stdout",
     "output_type": "stream",
     "text": [
      "<class 'pandas.core.frame.DataFrame'>\n",
      "RangeIndex: 571 entries, 0 to 570\n",
      "Data columns (total 43 columns):\n",
      " #   Column     Non-Null Count  Dtype  \n",
      "---  ------     --------------  -----  \n",
      " 0   Seat No.   571 non-null    object \n",
      " 1   PH-121     571 non-null    object \n",
      " 2   HS-101     571 non-null    object \n",
      " 3   CY-105     570 non-null    object \n",
      " 4   HS-105/12  570 non-null    object \n",
      " 5   MT-111     569 non-null    object \n",
      " 6   CS-105     571 non-null    object \n",
      " 7   CS-106     569 non-null    object \n",
      " 8   EL-102     569 non-null    object \n",
      " 9   EE-119     569 non-null    object \n",
      " 10  ME-107     569 non-null    object \n",
      " 11  CS-107     569 non-null    object \n",
      " 12  HS-205/20  566 non-null    object \n",
      " 13  MT-222     566 non-null    object \n",
      " 14  EE-222     564 non-null    object \n",
      " 15  MT-224     564 non-null    object \n",
      " 16  CS-210     564 non-null    object \n",
      " 17  CS-211     566 non-null    object \n",
      " 18  CS-203     566 non-null    object \n",
      " 19  CS-214     565 non-null    object \n",
      " 20  EE-217     565 non-null    object \n",
      " 21  CS-212     565 non-null    object \n",
      " 22  CS-215     565 non-null    object \n",
      " 23  MT-331     562 non-null    object \n",
      " 24  EF-303     561 non-null    object \n",
      " 25  HS-304     561 non-null    object \n",
      " 26  CS-301     561 non-null    object \n",
      " 27  CS-302     561 non-null    object \n",
      " 28  TC-383     561 non-null    object \n",
      " 29  MT-442     561 non-null    object \n",
      " 30  EL-332     562 non-null    object \n",
      " 31  CS-318     562 non-null    object \n",
      " 32  CS-306     562 non-null    object \n",
      " 33  CS-312     561 non-null    object \n",
      " 34  CS-317     559 non-null    object \n",
      " 35  CS-403     559 non-null    object \n",
      " 36  CS-421     559 non-null    object \n",
      " 37  CS-406     486 non-null    object \n",
      " 38  CS-414     558 non-null    object \n",
      " 39  CS-419     558 non-null    object \n",
      " 40  CS-423     557 non-null    object \n",
      " 41  CS-412     492 non-null    object \n",
      " 42  CGPA       571 non-null    float64\n",
      "dtypes: float64(1), object(42)\n",
      "memory usage: 191.9+ KB\n"
     ]
    }
   ],
   "source": [
    "data.info()"
   ]
  },
  {
   "cell_type": "code",
   "execution_count": 43,
   "id": "a4cbea47",
   "metadata": {},
   "outputs": [
    {
     "data": {
      "text/plain": [
       "(571, 43)"
      ]
     },
     "execution_count": 43,
     "metadata": {},
     "output_type": "execute_result"
    }
   ],
   "source": [
    "data.shape"
   ]
  },
  {
   "cell_type": "code",
   "execution_count": 44,
   "id": "c6cb9eed",
   "metadata": {},
   "outputs": [
    {
     "data": {
      "text/plain": [
       "<bound method NDFrame.describe of      Seat No. PH-121 HS-101 CY-105 HS-105/12 MT-111 CS-105 CS-106 EL-102  \\\n",
       "0    CS-97001     B-     D+     C-         C     C-     D+      D     C-   \n",
       "1    CS-97002      A      D     D+         D     B-      C      D      A   \n",
       "2    CS-97003      A      B      A        B-     B+      A     B-     B+   \n",
       "3    CS-97004      D     C+     D+         D      D     A-     D+     C-   \n",
       "4    CS-97005     A-     A-     A-        B+      A      A     A-     B+   \n",
       "..        ...    ...    ...    ...       ...    ...    ...    ...    ...   \n",
       "566  CS-97567      B      A      A        A-     A+      A     A-     A-   \n",
       "567  CS-97568     A+      A      A         A      A      A      A     A-   \n",
       "568  CS-97569      B      A     A-        B+      A      A      A      A   \n",
       "569  CS-97570      A     B+      D         A      D     D+     B-     C-   \n",
       "570  CS-97571      C      D      D         C      C     D+      B     C+   \n",
       "\n",
       "    EE-119  ... CS-312 CS-317 CS-403 CS-421 CS-406 CS-414 CS-419 CS-423  \\\n",
       "0       B-  ...     C-     C-     C-     C-     A-      A     C-      B   \n",
       "1       D+  ...     D+      D      C      D     A-     B-      C      C   \n",
       "2       A-  ...      B      B      A      C      A      A      A     A-   \n",
       "3        D  ...     D+      C     D+     C-     B-      B     C+     C+   \n",
       "4        A  ...     B-     B+     B+     B-     A-      A     A-     A-   \n",
       "..     ...  ...    ...    ...    ...    ...    ...    ...    ...    ...   \n",
       "566     A+  ...     A-     A-      A      A      A     B+     B+      B   \n",
       "567      A  ...     B+     B+      A      A     A-      B     A-      C   \n",
       "568      A  ...     A-      B      A     B+      A      C     B+     A-   \n",
       "569     B-  ...      D      B      B     C-      D      C      B     B-   \n",
       "570      C  ...     C+      C     B-      D      F     C-     B+      D   \n",
       "\n",
       "    CS-412   CGPA  \n",
       "0       A-  2.205  \n",
       "1        B  2.008  \n",
       "2        A  3.608  \n",
       "3       C+  1.906  \n",
       "4        A  3.448  \n",
       "..     ...    ...  \n",
       "566      A  3.798  \n",
       "567     A-  3.772  \n",
       "568     A-  3.470  \n",
       "569      C  2.193  \n",
       "570     C-  1.753  \n",
       "\n",
       "[571 rows x 43 columns]>"
      ]
     },
     "execution_count": 44,
     "metadata": {},
     "output_type": "execute_result"
    }
   ],
   "source": [
    "data.describe"
   ]
  },
  {
   "cell_type": "code",
   "execution_count": 45,
   "id": "4bfde32b",
   "metadata": {},
   "outputs": [
    {
     "data": {
      "text/plain": [
       "Seat No.      0\n",
       "PH-121        0\n",
       "HS-101        0\n",
       "CY-105        1\n",
       "HS-105/12     1\n",
       "MT-111        2\n",
       "CS-105        0\n",
       "CS-106        2\n",
       "EL-102        2\n",
       "EE-119        2\n",
       "ME-107        2\n",
       "CS-107        2\n",
       "HS-205/20     5\n",
       "MT-222        5\n",
       "EE-222        7\n",
       "MT-224        7\n",
       "CS-210        7\n",
       "CS-211        5\n",
       "CS-203        5\n",
       "CS-214        6\n",
       "EE-217        6\n",
       "CS-212        6\n",
       "CS-215        6\n",
       "MT-331        9\n",
       "EF-303       10\n",
       "HS-304       10\n",
       "CS-301       10\n",
       "CS-302       10\n",
       "TC-383       10\n",
       "MT-442       10\n",
       "EL-332        9\n",
       "CS-318        9\n",
       "CS-306        9\n",
       "CS-312       10\n",
       "CS-317       12\n",
       "CS-403       12\n",
       "CS-421       12\n",
       "CS-406       85\n",
       "CS-414       13\n",
       "CS-419       13\n",
       "CS-423       14\n",
       "CS-412       79\n",
       "CGPA          0\n",
       "dtype: int64"
      ]
     },
     "execution_count": 45,
     "metadata": {},
     "output_type": "execute_result"
    }
   ],
   "source": [
    "data.isnull( ).sum( )"
   ]
  },
  {
   "cell_type": "code",
   "execution_count": 46,
   "id": "b4030c05",
   "metadata": {},
   "outputs": [],
   "source": [
    "data=data.drop(columns=['Seat No.'])"
   ]
  },
  {
   "cell_type": "code",
   "execution_count": 47,
   "id": "1e1834aa",
   "metadata": {},
   "outputs": [
    {
     "name": "stdout",
     "output_type": "stream",
     "text": [
      "    PH-121 HS-101 CY-105 HS-105/12 MT-111 CS-105 CS-106 EL-102 EE-119 ME-107  \\\n",
      "0       B-     D+     C-         C     C-     D+      D     C-     B-     C-   \n",
      "1        A      D     D+         D     B-      C      D      A     D+      D   \n",
      "2        A      B      A        B-     B+      A     B-     B+     A-     A-   \n",
      "3        D     C+     D+         D      D     A-     D+     C-      D     C+   \n",
      "4       A-     A-     A-        B+      A      A     A-     B+      A     A-   \n",
      "..     ...    ...    ...       ...    ...    ...    ...    ...    ...    ...   \n",
      "566      B      A      A        A-     A+      A     A-     A-     A+     B+   \n",
      "567     A+      A      A         A      A      A      A     A-      A      A   \n",
      "568      B      A     A-        B+      A      A      A      A      A      B   \n",
      "569      A     B+      D         A      D     D+     B-     C-     B-     C-   \n",
      "570      C      D      D         C      C     D+      B     C+      C     D+   \n",
      "\n",
      "     ... CS-312 CS-317 CS-403 CS-421 CS-406 CS-414 CS-419 CS-423 CS-412   CGPA  \n",
      "0    ...     C-     C-     C-     C-     A-      A     C-      B     A-  2.205  \n",
      "1    ...     D+      D      C      D     A-     B-      C      C      B  2.008  \n",
      "2    ...      B      B      A      C      A      A      A     A-      A  3.608  \n",
      "3    ...     D+      C     D+     C-     B-      B     C+     C+     C+  1.906  \n",
      "4    ...     B-     B+     B+     B-     A-      A     A-     A-      A  3.448  \n",
      "..   ...    ...    ...    ...    ...    ...    ...    ...    ...    ...    ...  \n",
      "566  ...     A-     A-      A      A      A     B+     B+      B      A  3.798  \n",
      "567  ...     B+     B+      A      A     A-      B     A-      C     A-  3.772  \n",
      "568  ...     A-      B      A     B+      A      C     B+     A-     A-  3.470  \n",
      "569  ...      D      B      B     C-      D      C      B     B-      C  2.193  \n",
      "570  ...     C+      C     B-      D      F     C-     B+      D     C-  1.753  \n",
      "\n",
      "[571 rows x 42 columns]\n"
     ]
    }
   ],
   "source": [
    "print(data)"
   ]
  },
  {
   "cell_type": "code",
   "execution_count": 48,
   "id": "59a3cfed",
   "metadata": {},
   "outputs": [],
   "source": [
    "from sklearn.impute import SimpleImputer\n",
    "from sklearn.compose import make_column_transformer\n"
   ]
  },
  {
   "cell_type": "code",
   "execution_count": 49,
   "id": "029093fb",
   "metadata": {},
   "outputs": [],
   "source": [
    "imputer = SimpleImputer(strategy='most_frequent') \n",
    "data= pd.DataFrame(imputer.fit_transform(data), columns=data.columns)\n"
   ]
  },
  {
   "cell_type": "code",
   "execution_count": 50,
   "id": "d36526b1",
   "metadata": {},
   "outputs": [
    {
     "data": {
      "text/plain": [
       "PH-121       0\n",
       "HS-101       0\n",
       "CY-105       0\n",
       "HS-105/12    0\n",
       "MT-111       0\n",
       "CS-105       0\n",
       "CS-106       0\n",
       "EL-102       0\n",
       "EE-119       0\n",
       "ME-107       0\n",
       "CS-107       0\n",
       "HS-205/20    0\n",
       "MT-222       0\n",
       "EE-222       0\n",
       "MT-224       0\n",
       "CS-210       0\n",
       "CS-211       0\n",
       "CS-203       0\n",
       "CS-214       0\n",
       "EE-217       0\n",
       "CS-212       0\n",
       "CS-215       0\n",
       "MT-331       0\n",
       "EF-303       0\n",
       "HS-304       0\n",
       "CS-301       0\n",
       "CS-302       0\n",
       "TC-383       0\n",
       "MT-442       0\n",
       "EL-332       0\n",
       "CS-318       0\n",
       "CS-306       0\n",
       "CS-312       0\n",
       "CS-317       0\n",
       "CS-403       0\n",
       "CS-421       0\n",
       "CS-406       0\n",
       "CS-414       0\n",
       "CS-419       0\n",
       "CS-423       0\n",
       "CS-412       0\n",
       "CGPA         0\n",
       "dtype: int64"
      ]
     },
     "execution_count": 50,
     "metadata": {},
     "output_type": "execute_result"
    }
   ],
   "source": [
    "data.isnull().sum()"
   ]
  },
  {
   "cell_type": "code",
   "execution_count": 51,
   "id": "16ebc543",
   "metadata": {},
   "outputs": [],
   "source": [
    "from sklearn.preprocessing import LabelEncoder"
   ]
  },
  {
   "cell_type": "code",
   "execution_count": 52,
   "id": "bd739ada",
   "metadata": {},
   "outputs": [],
   "source": [
    "feature_columns = data.columns[data.columns != 'CGPA']\n",
    "label_encoders = {}\n",
    "for column in feature_columns:\n",
    "    label_encoders[column] = LabelEncoder()\n",
    "    data[column] = label_encoders[column].fit_transform(data[column])\n"
   ]
  },
  {
   "cell_type": "code",
   "execution_count": 53,
   "id": "ecb58c19",
   "metadata": {},
   "outputs": [
    {
     "name": "stdout",
     "output_type": "stream",
     "text": [
      "Encoded DataFrame with ordinal encoding on feature columns only:\n",
      "     PH-121  HS-101  CY-105  HS-105/12  MT-111  CS-105  CS-106  EL-102  \\\n",
      "0         5      10       8          6       8      10       9       8   \n",
      "1         0       9      10          9       5       6       9       0   \n",
      "2         0       3       0          5       4       0       5       4   \n",
      "3         9       7      10          9       9       2      10       8   \n",
      "4         2       2       2          4       0       0       2       4   \n",
      "..      ...     ...     ...        ...     ...     ...     ...     ...   \n",
      "566       3       0       0          2       1       0       2       2   \n",
      "567       1       0       0          0       0       0       0       2   \n",
      "568       3       0       2          4       0       0       0       0   \n",
      "569       0       4       9          0       9      10       5       8   \n",
      "570       6       9       9          6       6      10       3       7   \n",
      "\n",
      "     EE-119  ME-107  ...  CS-312  CS-317  CS-403  CS-421  CS-406  CS-414  \\\n",
      "0         5       8  ...       8       8       8       8       2       0   \n",
      "1        10       9  ...      10       9       6       9       2       5   \n",
      "2         2       2  ...       3       3       0       6       0       0   \n",
      "3         9       7  ...      10       6      10       8       5       3   \n",
      "4         0       2  ...       5       4       4       5       2       0   \n",
      "..      ...     ...  ...     ...     ...     ...     ...     ...     ...   \n",
      "566       1       4  ...       2       2       0       0       0       4   \n",
      "567       0       0  ...       4       4       0       0       2       3   \n",
      "568       0       3  ...       2       3       0       4       0       6   \n",
      "569       5       8  ...       9       3       3       8       9       6   \n",
      "570       6      10  ...       7       6       5       9      11       8   \n",
      "\n",
      "     CS-419  CS-423  CS-412   CGPA  \n",
      "0         8       3       2  2.205  \n",
      "1         6       6       3  2.008  \n",
      "2         0       2       0  3.608  \n",
      "3         7       7       7  1.906  \n",
      "4         2       2       0  3.448  \n",
      "..      ...     ...     ...    ...  \n",
      "566       4       3       0  3.798  \n",
      "567       2       6       2  3.772  \n",
      "568       4       2       2   3.47  \n",
      "569       3       5       6  2.193  \n",
      "570       4       9       8  1.753  \n",
      "\n",
      "[571 rows x 42 columns]\n"
     ]
    }
   ],
   "source": [
    "print(\"Encoded DataFrame with ordinal encoding on feature columns only:\")\n",
    "print(data)\n"
   ]
  },
  {
   "cell_type": "code",
   "execution_count": 54,
   "id": "bfea3dcc",
   "metadata": {},
   "outputs": [
    {
     "name": "stdout",
     "output_type": "stream",
     "text": [
      "<class 'pandas.core.frame.DataFrame'>\n",
      "RangeIndex: 571 entries, 0 to 570\n",
      "Data columns (total 42 columns):\n",
      " #   Column     Non-Null Count  Dtype \n",
      "---  ------     --------------  ----- \n",
      " 0   PH-121     571 non-null    int32 \n",
      " 1   HS-101     571 non-null    int32 \n",
      " 2   CY-105     571 non-null    int32 \n",
      " 3   HS-105/12  571 non-null    int32 \n",
      " 4   MT-111     571 non-null    int32 \n",
      " 5   CS-105     571 non-null    int32 \n",
      " 6   CS-106     571 non-null    int32 \n",
      " 7   EL-102     571 non-null    int32 \n",
      " 8   EE-119     571 non-null    int32 \n",
      " 9   ME-107     571 non-null    int32 \n",
      " 10  CS-107     571 non-null    int32 \n",
      " 11  HS-205/20  571 non-null    int32 \n",
      " 12  MT-222     571 non-null    int32 \n",
      " 13  EE-222     571 non-null    int32 \n",
      " 14  MT-224     571 non-null    int32 \n",
      " 15  CS-210     571 non-null    int32 \n",
      " 16  CS-211     571 non-null    int32 \n",
      " 17  CS-203     571 non-null    int32 \n",
      " 18  CS-214     571 non-null    int32 \n",
      " 19  EE-217     571 non-null    int32 \n",
      " 20  CS-212     571 non-null    int32 \n",
      " 21  CS-215     571 non-null    int32 \n",
      " 22  MT-331     571 non-null    int32 \n",
      " 23  EF-303     571 non-null    int32 \n",
      " 24  HS-304     571 non-null    int32 \n",
      " 25  CS-301     571 non-null    int32 \n",
      " 26  CS-302     571 non-null    int32 \n",
      " 27  TC-383     571 non-null    int32 \n",
      " 28  MT-442     571 non-null    int32 \n",
      " 29  EL-332     571 non-null    int32 \n",
      " 30  CS-318     571 non-null    int32 \n",
      " 31  CS-306     571 non-null    int32 \n",
      " 32  CS-312     571 non-null    int32 \n",
      " 33  CS-317     571 non-null    int32 \n",
      " 34  CS-403     571 non-null    int32 \n",
      " 35  CS-421     571 non-null    int32 \n",
      " 36  CS-406     571 non-null    int32 \n",
      " 37  CS-414     571 non-null    int32 \n",
      " 38  CS-419     571 non-null    int32 \n",
      " 39  CS-423     571 non-null    int32 \n",
      " 40  CS-412     571 non-null    int32 \n",
      " 41  CGPA       571 non-null    object\n",
      "dtypes: int32(41), object(1)\n",
      "memory usage: 96.0+ KB\n"
     ]
    }
   ],
   "source": [
    "data.head(40)\n",
    "data.info()\n"
   ]
  },
  {
   "cell_type": "code",
   "execution_count": 55,
   "id": "1f0aa82a",
   "metadata": {},
   "outputs": [],
   "source": [
    "Y=data['CGPA']\n",
    "X=data.drop(columns= ['CGPA'])"
   ]
  },
  {
   "cell_type": "code",
   "execution_count": 56,
   "id": "e7656868",
   "metadata": {},
   "outputs": [],
   "source": [
    "Scaler=StandardScaler( )\n",
    "X_scaled=Scaler.fit_transform(X)"
   ]
  },
  {
   "cell_type": "code",
   "execution_count": 57,
   "id": "49a5ce0b",
   "metadata": {},
   "outputs": [],
   "source": [
    "x_train,x_test,y_train,y_test=train_test_split(X_scaled, Y, test_size=0.25, random_state=348)"
   ]
  },
  {
   "cell_type": "code",
   "execution_count": 58,
   "id": "2a7e5af0",
   "metadata": {},
   "outputs": [
    {
     "data": {
      "text/plain": [
       "506    3.107\n",
       "22     2.953\n",
       "201    3.019\n",
       "289    3.943\n",
       "332    2.716\n",
       "Name: CGPA, dtype: object"
      ]
     },
     "execution_count": 58,
     "metadata": {},
     "output_type": "execute_result"
    }
   ],
   "source": [
    "y_train.head()"
   ]
  },
  {
   "cell_type": "code",
   "execution_count": 59,
   "id": "19fe4b1b",
   "metadata": {},
   "outputs": [
    {
     "data": {
      "text/plain": [
       "LinearRegression()"
      ]
     },
     "execution_count": 59,
     "metadata": {},
     "output_type": "execute_result"
    }
   ],
   "source": [
    "regression=LinearRegression( )\n",
    "regression.fit(x_train, y_train)\n"
   ]
  },
  {
   "cell_type": "code",
   "execution_count": 60,
   "id": "58f9e876",
   "metadata": {},
   "outputs": [
    {
     "name": "stdout",
     "output_type": "stream",
     "text": [
      "[3.9818163  1.94302005 3.87425008 1.65009855 3.55784919 3.22750877\n",
      " 3.41528736 2.57542617 3.49324508 2.7730529  3.88553356 3.35699799\n",
      " 2.3811056  2.32211303 3.41840446 3.05758223 2.40421831 3.10759347\n",
      " 1.61591567 2.03073397 3.99635447 3.08593938 2.5456631  3.17611038\n",
      " 2.1623756  3.50660546 2.36960252 3.35326209 2.13587251 2.50241672\n",
      " 1.7293202  2.56006948 2.86355171 2.17119836 3.14787638 3.04303819\n",
      " 3.03921564 1.97346882 2.70490772 2.97390157 2.79845968 3.0682445\n",
      " 2.1870348  3.55590228 3.74947266 2.98059189 2.50391451 2.07909286\n",
      " 2.46287493 2.0653159  2.49923783 2.65665392 3.76208964 2.42042835\n",
      " 1.84272586 1.95689774 3.36374497 3.09671705 2.820463   3.12920025\n",
      " 2.16869048 3.52790482 2.53161803 3.80331522 3.42893278 2.79756649\n",
      " 1.884178   3.05446186 2.36202828 3.47638623 2.23579383 3.36953138\n",
      " 2.11314152 2.36621793 3.45858971 2.35757333 2.59267307 2.63024874\n",
      " 3.27089826 2.93799404 3.5455188  3.29389227 3.74361467 4.00313853\n",
      " 3.11403173 3.82882313 2.91783674 3.22257253 3.28753119 3.14311294\n",
      " 2.55282453 2.03921548 2.32503606 3.6215067  1.71375588 3.15366762\n",
      " 2.29230332 2.958231   3.61950837 2.13788864 2.39237035 3.16287247\n",
      " 2.91948667 3.29770222 2.35421626 2.90651504 3.24924164 2.79399408\n",
      " 3.38475564 1.63707028 3.01022773 3.02925749 3.10476126 1.87118467\n",
      " 2.90976709 3.2907238  3.7772249  1.58311322 2.96246237 3.12157793\n",
      " 2.63839356 3.11454594 3.84523164 2.83340681 2.70433617 2.71459624\n",
      " 1.84413251 2.7206729  3.37464342 2.06926175 3.62982124 2.84799117\n",
      " 1.95695249 3.53555491 3.22442895 2.62100937 3.32509621 2.92507259\n",
      " 1.98927074 3.13094655 2.33713879 2.91273327 2.93071855]\n"
     ]
    }
   ],
   "source": [
    "y_predict=regression.predict(x_test)  \n",
    "print(y_predict)"
   ]
  },
  {
   "cell_type": "code",
   "execution_count": 61,
   "id": "1a9e0527",
   "metadata": {},
   "outputs": [],
   "source": [
    "from sklearn.metrics import mean_squared_error, mean_absolute_error"
   ]
  },
  {
   "cell_type": "code",
   "execution_count": 62,
   "id": "cea9ff76",
   "metadata": {},
   "outputs": [
    {
     "name": "stdout",
     "output_type": "stream",
     "text": [
      "0.11659766370861821\n",
      "0.10232782469987654\n"
     ]
    }
   ],
   "source": [
    "a=mean_absolute_error(y_test,y_predict)\n",
    "print(a)\n",
    "\n",
    "\n",
    "b=mean_squared_error(y_test,y_predict)\n",
    "print(b)\n",
    "\n",
    "\n"
   ]
  }
 ],
 "metadata": {
  "kernelspec": {
   "display_name": "Python 3 (ipykernel)",
   "language": "python",
   "name": "python3"
  },
  "language_info": {
   "codemirror_mode": {
    "name": "ipython",
    "version": 3
   },
   "file_extension": ".py",
   "mimetype": "text/x-python",
   "name": "python",
   "nbconvert_exporter": "python",
   "pygments_lexer": "ipython3",
   "version": "3.9.13"
  }
 },
 "nbformat": 4,
 "nbformat_minor": 5
}
