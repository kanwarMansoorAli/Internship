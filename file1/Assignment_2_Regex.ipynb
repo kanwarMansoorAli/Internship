{
 "cells": [
  {
   "cell_type": "code",
   "execution_count": 12,
   "id": "2ca011ca",
   "metadata": {},
   "outputs": [
    {
     "name": "stdout",
     "output_type": "stream",
     "text": [
      "Welcome::data:Analysts::it:is:the:second:assignment:\n"
     ]
    }
   ],
   "source": [
    "# Question-1:\n",
    "import re\n",
    "\n",
    "text = \"Welcome, data Analysts. it is the second assignment.\"\n",
    "result = re.sub(r'[ ,.]', ':', text)\n",
    "print(result)"
   ]
  },
  {
   "cell_type": "code",
   "execution_count": 13,
   "id": "f28c2f92",
   "metadata": {},
   "outputs": [
    {
     "name": "stdout",
     "output_type": "stream",
     "text": [
      "         SUMMARY\n",
      "0    hello world\n",
      "1     XXXXX test\n",
      "2  four five six\n"
     ]
    }
   ],
   "source": [
    "# Question-2:\n",
    "import pandas as pd\n",
    "import re\n",
    "\n",
    "text = {'SUMMARY': ['hello, world!', 'XXXXX test', '123four, five:; six...']}\n",
    "df = pd.DataFrame(text)\n",
    "for msg in range(len(df['SUMMARY'])):\n",
    "    df['SUMMARY'][msg] = re.sub('[^a-zA-Z ]', '', df['SUMMARY'][msg])\n",
    "print(df)\n"
   ]
  },
  {
   "cell_type": "code",
   "execution_count": 14,
   "id": "c1dcd94e",
   "metadata": {},
   "outputs": [
    {
     "name": "stdout",
     "output_type": "stream",
     "text": [
      "['Every', 'single', 'domain', 'produicng', 'data']\n"
     ]
    }
   ],
   "source": [
    "# Question-3:\n",
    "import re\n",
    "\n",
    "def word_finder(text):\n",
    "    pattern = re.compile(r'\\w{4,}')\n",
    "    result = pattern.findall(text)\n",
    "    return result\n",
    "\n",
    "\n",
    "text = \"Every single domain is produicng big data.\"\n",
    "result = word_finder(text)\n",
    "print(result)"
   ]
  },
  {
   "cell_type": "code",
   "execution_count": 15,
   "id": "fb72a7ab",
   "metadata": {
    "scrolled": false
   },
   "outputs": [
    {
     "name": "stdout",
     "output_type": "stream",
     "text": [
      "['Every', 'big', 'data']\n"
     ]
    }
   ],
   "source": [
    "# Question-4:\n",
    "\n",
    "import re\n",
    "\n",
    "def word_finder(text):\n",
    "    pattern = re.compile(r'\\b\\w{3,5}\\b')\n",
    "    result = pattern.findall(text)\n",
    "    return result\n",
    "\n",
    "text = \"Every single domain is produicng big data.\"\n",
    "result = word_finder(text)\n",
    "print(result)"
   ]
  },
  {
   "cell_type": "code",
   "execution_count": 135,
   "id": "bb446bb1",
   "metadata": {},
   "outputs": [
    {
     "name": "stdout",
     "output_type": "stream",
     "text": [
      "['example .com', 'hr@fliprobo .com', 'github .com', 'Hello Data Science World', 'Data Scientist']\n"
     ]
    }
   ],
   "source": [
    "# Question-5:\n",
    "\n",
    "import re\n",
    "\n",
    "def eliminate(text_list):\n",
    "    pattern = re.compile(r'\\(|\\)')\n",
    "    result = []\n",
    "    for msg in text_list:\n",
    "        result.append(pattern.sub('', msg))\n",
    "    return result\n",
    "\n",
    "text_list = [\"example (.com)\", \"hr@fliprobo (.com)\", \"github (.com)\", \"Hello (Data Science World)\", \"Data (Scientist)\"]\n",
    "result = eliminate(text_list)\n",
    "print(result)"
   ]
  },
  {
   "cell_type": "code",
   "execution_count": 147,
   "id": "08e17258",
   "metadata": {},
   "outputs": [
    {
     "name": "stdout",
     "output_type": "stream",
     "text": [
      "example hr@fliprobo github Hello Data \n"
     ]
    }
   ],
   "source": [
    "# Question-6:\n",
    "import re\n",
    "text = [\"example (.com)\", \"hr@fliprobo (.com)\", \"github (.com)\", \"Hello (Data Science World)\", \"Data (Scientist)\"]\n",
    "\n",
    "\n",
    "with open(\"text.txt\", \"w\") as file:\n",
    "    for msg in text:\n",
    "        file.write(msg)\n",
    "with open(\"text.txt\", \"r\") as file:\n",
    "    file = file.read()\n",
    "text = re.sub(r'\\([^)]*\\)', '',file)\n",
    "print(text)\n",
    "\n"
   ]
  },
  {
   "cell_type": "code",
   "execution_count": 145,
   "id": "71c95cff",
   "metadata": {},
   "outputs": [
    {
     "name": "stdout",
     "output_type": "stream",
     "text": [
      "['', 'Importance', 'Of', 'Regular', 'Expressions', 'In', 'Python']\n"
     ]
    }
   ],
   "source": [
    "# Question-7:\n",
    "\n",
    "import re\n",
    "\n",
    "sample_text = \"ImportanceOfRegularExpressionsInPython\"\n",
    "result = re.split(r'(?<=[a-z])(?=[A-Z])', sample_text)\n",
    "result = list((split_result))\n",
    "print(result)\n",
    "\n"
   ]
  },
  {
   "cell_type": "code",
   "execution_count": 175,
   "id": "e638df5b",
   "metadata": {},
   "outputs": [
    {
     "name": "stdout",
     "output_type": "stream",
     "text": [
      "RegularExpression 1IsAn 2ImportantTopic 3InPython\n"
     ]
    }
   ],
   "source": [
    "#Question-8:\n",
    "import re\n",
    "\n",
    "def spacer(text):\n",
    "    result = re.sub(r'(?<=\\D)(?=\\d)', ' ', text)\n",
    "    return result\n",
    "\n",
    "text = \"RegularExpression1IsAn2ImportantTopic3InPython\"\n",
    "result = spacer(text)\n",
    "print(result)"
   ]
  },
  {
   "cell_type": "code",
   "execution_count": 148,
   "id": "05cb4ba6",
   "metadata": {
    "scrolled": true
   },
   "outputs": [
    {
     "name": "stdout",
     "output_type": "stream",
     "text": [
      " Regular Expression1 Is An2 Important Topic3 In Python\n"
     ]
    }
   ],
   "source": [
    "#Question-9:\n",
    "import re\n",
    "\n",
    "def spacer(text):\n",
    "    result = re.sub(r'(?<=[a-z])(?=[A-Z0-9])', ' ', text)\n",
    "    return result\n",
    "\n",
    "sample_text = \"RegularExpression1IsAn2ImportantTopic3InPython\"\n",
    "result= insert_spaces(sample_text)\n",
    "\n",
    "print(result)"
   ]
  },
  {
   "cell_type": "code",
   "execution_count": null,
   "id": "9aeace9f",
   "metadata": {},
   "outputs": [],
   "source": [
    "# Question-10:\n",
    "#Couldn't convert into suitable file format that could be converted into DataFrame"
   ]
  },
  {
   "cell_type": "code",
   "execution_count": 50,
   "id": "d27615ed",
   "metadata": {},
   "outputs": [
    {
     "name": "stdout",
     "output_type": "stream",
     "text": [
      "<re.Match object; span=(0, 23), match='Best_Possible_Cases_123'>\n"
     ]
    }
   ],
   "source": [
    "# Question-11:\n",
    "import re\n",
    "\n",
    "text = \"Best_Possible_Cases_123\"\n",
    "pattern = re.compile(r'^[a-zA-Z0-9_]+$')\n",
    "result = pattern.search(text)\n",
    "print(result)"
   ]
  },
  {
   "cell_type": "code",
   "execution_count": 52,
   "id": "4525bfc7",
   "metadata": {},
   "outputs": [
    {
     "name": "stdout",
     "output_type": "stream",
     "text": [
      "<re.Match object; span=(0, 3), match='123'>\n"
     ]
    }
   ],
   "source": [
    "# Question-12: Write a Python program where a string will start with a specific number. \n",
    "\n",
    "import re\n",
    "\n",
    "text = \"123Hello Everyone\"\n",
    "result = re.match(r'^\\d+', text)\n",
    "print(result)"
   ]
  },
  {
   "cell_type": "code",
   "execution_count": 168,
   "id": "5add89a5",
   "metadata": {},
   "outputs": [
    {
     "name": "stdout",
     "output_type": "stream",
     "text": [
      "192.10.1.5\n"
     ]
    }
   ],
   "source": [
    "# Question-13:\n",
    "\n",
    "import re\n",
    "\n",
    "ip = \"192.010.001.005\"\n",
    "pattern = r'\\b0*(\\d{1,3})\\b'\n",
    "changed_ip = re.sub(pattern, r'\\1', ip)\n",
    "print(changed_ip)\n"
   ]
  },
  {
   "cell_type": "code",
   "execution_count": 56,
   "id": "f9e9af25",
   "metadata": {},
   "outputs": [
    {
     "name": "stdout",
     "output_type": "stream",
     "text": [
      "['August 15th 1947']\n"
     ]
    }
   ],
   "source": [
    "#Question-14:\n",
    "\n",
    "import re\n",
    "\n",
    "file = open('text.txt', 'w')\n",
    "file.write('On August 15th 1947 that India was declared independent from British colonialism, and the reins of control were handed over to the leaders of the Country.')\n",
    "file.close()  \n",
    "\n",
    "\n",
    "with open('text.txt', 'r') as file:\n",
    "    text = file.read()\n",
    "    \n",
    "date_pattern = re.compile(r'\\b(?:January|February|March|April|May|June|July|August|September|October|November|December)\\s+\\d{1,2}(?:st|nd|rd|th)?\\s+\\d{4}\\b')\n",
    "result = date_pattern.findall(text)\n",
    "\n",
    "\n",
    "print(result)\n",
    "\n",
    "\n",
    "\n"
   ]
  },
  {
   "cell_type": "code",
   "execution_count": 150,
   "id": "64e0c8c2",
   "metadata": {},
   "outputs": [
    {
     "name": "stdout",
     "output_type": "stream",
     "text": [
      "<re.Match object; span=(16, 19), match='fox'>\n",
      "<re.Match object; span=(40, 43), match='dog'>\n",
      "None\n"
     ]
    }
   ],
   "source": [
    "# Question-15\n",
    "\n",
    "import re\n",
    "\n",
    "sample_text = 'The quick brown fox jumps over the lazy dog.'\n",
    "searched_words = ['fox', 'dog', 'horse']\n",
    "\n",
    "for word in searched_words:\n",
    "    result = re.search(word, sample_text)\n",
    "    print(result)"
   ]
  },
  {
   "cell_type": "code",
   "execution_count": 118,
   "id": "71670855",
   "metadata": {
    "scrolled": true
   },
   "outputs": [
    {
     "name": "stdout",
     "output_type": "stream",
     "text": [
      "<re.Match object; span=(16, 19), match='fox'>\n"
     ]
    }
   ],
   "source": [
    "# Question-16\n",
    "\n",
    "import re\n",
    "\n",
    "sample_text = 'The quick brown fox jumps over the lazy dog.'\n",
    "searched_word = 'fox'\n",
    "result = re.search(searched_word, sample_text)\n",
    "print(result)\n"
   ]
  },
  {
   "cell_type": "code",
   "execution_count": 116,
   "id": "36971ab3",
   "metadata": {},
   "outputs": [
    {
     "name": "stdout",
     "output_type": "stream",
     "text": [
      "['exercises', 'exercises', 'exercises']\n"
     ]
    }
   ],
   "source": [
    "# Question-17\n",
    "\n",
    "import re\n",
    "\n",
    "text = 'Python exercises, PHP exercises, C# exercises'\n",
    "pattern = 'exercises'\n",
    "\n",
    "\n",
    "result = re.findall(pattern,text)\n",
    "print(result)"
   ]
  },
  {
   "cell_type": "code",
   "execution_count": 112,
   "id": "ee603ca6",
   "metadata": {},
   "outputs": [
    {
     "name": "stdout",
     "output_type": "stream",
     "text": [
      "<re.Match object; span=(7, 16), match='exercises'>\n"
     ]
    }
   ],
   "source": [
    "# Question-18\n",
    "import re\n",
    "\n",
    "text = 'Python exercises, PHP exercises, C# exercises'\n",
    "pattern = 'exercises'\n",
    "\n",
    "\n",
    "result = re.search(pattern,text)\n",
    "print(result)"
   ]
  },
  {
   "cell_type": "code",
   "execution_count": 108,
   "id": "ed9ac8af",
   "metadata": {},
   "outputs": [
    {
     "name": "stdout",
     "output_type": "stream",
     "text": [
      "04-11-2023\n"
     ]
    }
   ],
   "source": [
    "# Question-19\n",
    "\n",
    "import re\n",
    "\n",
    "def format(date):\n",
    "    converted_date = re.sub(r'(\\d{4})-(\\d{2})-(\\d{2})', r'\\3-\\2-\\1', date)\n",
    "    return converted_date\n",
    "\n",
    "date = \"2023-11-04\"\n",
    "converted_date =format(date)\n",
    "print(converted_date)"
   ]
  },
  {
   "cell_type": "code",
   "execution_count": 103,
   "id": "3e378630",
   "metadata": {},
   "outputs": [
    {
     "name": "stdout",
     "output_type": "stream",
     "text": [
      "['.12', '.12', '', '.31', '', '.8', '.01', '.25', '.25']\n"
     ]
    }
   ],
   "source": [
    "# Question-20\n",
    "\n",
    "import re\n",
    "\n",
    "def precision(text):\n",
    "    pattern = re.compile(r'\\d+(\\.\\d{1,2})?')\n",
    "    result=pattern.findall(text)\n",
    "    return result\n",
    "\n",
    "text = \"01.12 0132.123 2.31875 145.8 3.01 27.25 0.25\"\n",
    "result = precision(text)\n",
    "print(result)"
   ]
  },
  {
   "cell_type": "code",
   "execution_count": 165,
   "id": "e12c22e6",
   "metadata": {},
   "outputs": [
    {
     "name": "stdout",
     "output_type": "stream",
     "text": [
      "<re.Match object; span=(15, 17), match='78'>\n"
     ]
    }
   ],
   "source": [
    "# Question-21\n",
    "\n",
    "import re\n",
    "\n",
    "sample_text = \"The cost wass $78.60.\"\n",
    "\n",
    "for msg in sample_text:\n",
    "    match = re.search(r'\\d+', sample_text)\n",
    "print(match)"
   ]
  },
  {
   "cell_type": "code",
   "execution_count": 94,
   "id": "1b05039c",
   "metadata": {},
   "outputs": [
    {
     "name": "stdout",
     "output_type": "stream",
     "text": [
      "950\n"
     ]
    }
   ],
   "source": [
    "# Question-22\n",
    "\n",
    "import re\n",
    "\n",
    "text = 'My marks in each semester are: 947, 896, 926, 524, 734, 950, 642'\n",
    "pattern = re.findall(r'\\b\\d+\\b', sample_text)\n",
    "result = max(pattern)\n",
    "print(result)"
   ]
  },
  {
   "cell_type": "code",
   "execution_count": 89,
   "id": "d8195f68",
   "metadata": {},
   "outputs": [
    {
     "name": "stdout",
     "output_type": "stream",
     "text": [
      " Regular Expression Is An Important Topic In Python\n"
     ]
    }
   ],
   "source": [
    "# Question-23\n",
    "\n",
    "import re\n",
    "\n",
    "text = \"RegularExpressionIsAnImportantTopicInPython\"\n",
    "\n",
    "def cap_splitter(text):\n",
    "    result = re.sub(r'([A-Z][a-z]+)', r' \\1', text)\n",
    "    return result\n",
    "result= cap_splitter(text)\n",
    "print(result)"
   ]
  },
  {
   "cell_type": "code",
   "execution_count": 162,
   "id": "a2428b12",
   "metadata": {},
   "outputs": [
    {
     "name": "stdout",
     "output_type": "stream",
     "text": [
      "['The', 'Best', 'In']\n"
     ]
    }
   ],
   "source": [
    "# Question-24\n",
    "\n",
    "import re\n",
    "\n",
    "text = \"The Best town In japan\"\n",
    "result = re.findall(r'[A-Z][a-z]+', text)\n",
    "print(result)"
   ]
  },
  {
   "cell_type": "code",
   "execution_count": 161,
   "id": "901f4bde",
   "metadata": {},
   "outputs": [
    {
     "name": "stdout",
     "output_type": "stream",
     "text": [
      "Hello hello world\n"
     ]
    }
   ],
   "source": [
    "# Question-25\n",
    "\n",
    "import re\n",
    "\n",
    "text = \"Hello hello world world\"\n",
    "result = re.sub(r'(\\w+)(\\s+\\1)+', r'\\1',text)\n",
    "print(result)"
   ]
  },
  {
   "cell_type": "code",
   "execution_count": 160,
   "id": "49ee5f7d",
   "metadata": {},
   "outputs": [
    {
     "name": "stdout",
     "output_type": "stream",
     "text": [
      "<re.Match object; span=(0, 8), match='Hello123'>\n"
     ]
    }
   ],
   "source": [
    "# Question-26\n",
    "\n",
    "import re\n",
    "text = \"Hello123\"\n",
    "pattern = re.compile(r'.*\\w$')\n",
    "result=pattern.search(text)\n",
    "print(result)"
   ]
  },
  {
   "cell_type": "code",
   "execution_count": 159,
   "id": "c6498a02",
   "metadata": {},
   "outputs": [
    {
     "name": "stdout",
     "output_type": "stream",
     "text": [
      "['#Doltiwal', '#xyzabc', '#Demonetization']\n"
     ]
    }
   ],
   "source": [
    "# Question-27\n",
    "\n",
    "import re\n",
    "\n",
    "\n",
    "text = \"\"\"RT @kapil_kausik: #Doltiwal I mean #xyzabc is \"hurt\" by #Demonetization as the same has rendered USELESS <ed><U+00A0><U+00BD><ed><U+00B1><U+0089> \"acquired funds\" No wo\"\"\"\n",
    "pattern = re.compile(r'#\\w+')\n",
    "result = pattern.findall(text)\n",
    "print(result)"
   ]
  },
  {
   "cell_type": "code",
   "execution_count": 158,
   "id": "e3c87822",
   "metadata": {},
   "outputs": [
    {
     "name": "stdout",
     "output_type": "stream",
     "text": [
      "@Jags123456 Bharat band on 28??<ed><ed>Those who  are protesting #demonetization  are all different party leaders\n"
     ]
    }
   ],
   "source": [
    "# Question-28\n",
    "\n",
    "import re\n",
    "text = \"@Jags123456 Bharat band on 28??<ed><U+00A0><U+00BD><ed><U+00B8><U+0082>Those who  are protesting #demonetization  are all different party leaders\"\n",
    "pattern = re.compile(r'<U\\+[0-9A-Za-z]+>')\n",
    "result= pattern.sub('', text)\n",
    "print( result)"
   ]
  },
  {
   "cell_type": "code",
   "execution_count": 157,
   "id": "b93fe539",
   "metadata": {},
   "outputs": [
    {
     "name": "stdout",
     "output_type": "stream",
     "text": [
      "['12-09-1992', '15-12-1999']\n"
     ]
    }
   ],
   "source": [
    "# Question-29\n",
    "\n",
    "import re\n",
    "with open('text.txt', 'w') as file:\n",
    "    file.write('Ron was born on 12-09-1992 and he was admitted to school 15-12-1999.')\n",
    "with open('text.txt', 'r') as file:\n",
    "    text = file.read()\n",
    "pattern = re.compile(r'\\d{2}-\\d{2}-\\d{4}')\n",
    "result = pattern.findall(text)\n",
    "print(result)"
   ]
  },
  {
   "cell_type": "code",
   "execution_count": 156,
   "id": "df460362",
   "metadata": {},
   "outputs": [
    {
     "name": "stdout",
     "output_type": "stream",
     "text": [
      " following example creates  ArrayList  a capacity   elements. 4 elements   added   ArrayList   ArrayList  trimmed accordingly.\n"
     ]
    }
   ],
   "source": [
    "#Question-30\n",
    "import re\n",
    "\n",
    "def remover(text):\n",
    "    pattern = re.compile(r'\\b\\w{2,4}\\b')\n",
    "    result = pattern.sub('', text)\n",
    "    return result\n",
    "sample_text = \"The following example creates an ArrayList with a capacity of 50 elements. 4 elements are then added to the ArrayList and the ArrayList is trimmed accordingly.\"\n",
    "result = remover(sample_text)\n",
    "print(result)"
   ]
  }
 ],
 "metadata": {
  "kernelspec": {
   "display_name": "Python 3 (ipykernel)",
   "language": "python",
   "name": "python3"
  },
  "language_info": {
   "codemirror_mode": {
    "name": "ipython",
    "version": 3
   },
   "file_extension": ".py",
   "mimetype": "text/x-python",
   "name": "python",
   "nbconvert_exporter": "python",
   "pygments_lexer": "ipython3",
   "version": "3.9.13"
  }
 },
 "nbformat": 4,
 "nbformat_minor": 5
}
